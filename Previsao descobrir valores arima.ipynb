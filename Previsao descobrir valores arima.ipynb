{
 "cells": [
  {
   "cell_type": "code",
   "execution_count": 2,
   "metadata": {},
   "outputs": [
    {
     "ename": "ModuleNotFoundError",
     "evalue": "No module named 'pyramid'",
     "output_type": "error",
     "traceback": [
      "\u001b[1;31m---------------------------------------------------------------------------\u001b[0m",
      "\u001b[1;31mModuleNotFoundError\u001b[0m                       Traceback (most recent call last)",
      "\u001b[1;32m<ipython-input-2-78453018e80a>\u001b[0m in \u001b[0;36m<module>\u001b[1;34m\u001b[0m\n\u001b[0;32m      2\u001b[0m \u001b[1;32mimport\u001b[0m \u001b[0mmatplotlib\u001b[0m\u001b[1;33m.\u001b[0m\u001b[0mpylab\u001b[0m \u001b[1;32mas\u001b[0m \u001b[0mplt\u001b[0m\u001b[1;33m\u001b[0m\u001b[1;33m\u001b[0m\u001b[0m\n\u001b[0;32m      3\u001b[0m \u001b[1;32mfrom\u001b[0m \u001b[0mstatsmodels\u001b[0m\u001b[1;33m.\u001b[0m\u001b[0mtsa\u001b[0m\u001b[1;33m.\u001b[0m\u001b[0marima_model\u001b[0m \u001b[1;32mimport\u001b[0m \u001b[0mARIMA\u001b[0m\u001b[1;33m\u001b[0m\u001b[1;33m\u001b[0m\u001b[0m\n\u001b[1;32m----> 4\u001b[1;33m \u001b[1;32mfrom\u001b[0m \u001b[0mpyramid\u001b[0m\u001b[1;33m.\u001b[0m\u001b[0marima\u001b[0m \u001b[1;32mimport\u001b[0m \u001b[0mauto_arima\u001b[0m\u001b[1;33m\u001b[0m\u001b[1;33m\u001b[0m\u001b[0m\n\u001b[0m",
      "\u001b[1;31mModuleNotFoundError\u001b[0m: No module named 'pyramid'"
     ]
    }
   ],
   "source": [
    "import pandas as pd \n",
    "import matplotlib.pylab as plt\n",
    "from statsmodels.tsa.arima_model import ARIMA\n",
    "from pyramid.arima import auto_arima"
   ]
  },
  {
   "cell_type": "code",
   "execution_count": null,
   "metadata": {},
   "outputs": [],
   "source": [
    "#Ler arquivo e converter coluna mes para tipo data, deixando ela como index da base \n",
    "\n",
    "dateparse = lambda dates : pd.datetime.strptime(dates, '%Y-%m')\n",
    "base = pd.read_csv('AirPassengers.csv', parse_dates = ['Month'],\n",
    "                    index_col = 'Month', date_parser = dateparse)"
   ]
  },
  {
   "cell_type": "code",
   "execution_count": null,
   "metadata": {},
   "outputs": [],
   "source": [
    "#Mudando o tipo para Series \n",
    "ts=base['#Passengers']\n",
    "ts"
   ]
  },
  {
   "cell_type": "code",
   "execution_count": null,
   "metadata": {},
   "outputs": [],
   "source": [
    "plt.plot(ts)"
   ]
  },
  {
   "cell_type": "code",
   "execution_count": null,
   "metadata": {},
   "outputs": [],
   "source": [
    "#p numero de termos alto regressivos\n",
    "#q é o numero da média móvel\n",
    "#d é a diferença não sazonais\n",
    "modelo = ARIMA(ts,order=[2,1,2])\n",
    "modelo_treinado = modelo.fit()\n",
    "modelo_treinado.summary()"
   ]
  },
  {
   "cell_type": "code",
   "execution_count": null,
   "metadata": {},
   "outputs": [],
   "source": [
    "#steps = quandidade de previsoes\n",
    "previsoes = modelo_treinado.forecast(steps=12)[0]\n",
    "print(previsoes)"
   ]
  },
  {
   "cell_type": "code",
   "execution_count": null,
   "metadata": {},
   "outputs": [],
   "source": [
    "eixo = ts.plot()\n",
    "#aonde começa os dados que serão usados para prever até o final do valor da previsão\n",
    "modelo_treinado.plot_predict('1960-01-01', '1962-01-01',\n",
    "                                ax = eixo,plot_insample=False)\n"
   ]
  },
  {
   "cell_type": "code",
   "execution_count": null,
   "metadata": {},
   "outputs": [],
   "source": [
    "#auto arima define os 3 parametros, ele roda varias vezes e ele mesmo define o melhor conjunto de parametros\n",
    "#12: distribuição mensal dos dados\n",
    "#Trace true mostra os testes dos valores que ele executa\n",
    "modelo_auto = auto_arima(ts, m = 12, seasonal=True,trace=True)\n",
    "#mostra os valores que ele escolheu\n",
    "modelo_auto.sumary()"
   ]
  },
  {
   "cell_type": "code",
   "execution_count": null,
   "metadata": {},
   "outputs": [],
   "source": [
    "proximos_12  = modelo_auto.predict(n_periods = 12)"
   ]
  },
  {
   "cell_type": "code",
   "execution_count": null,
   "metadata": {},
   "outputs": [],
   "source": []
  }
 ],
 "metadata": {
  "kernelspec": {
   "display_name": "Python 3",
   "language": "python",
   "name": "python3"
  },
  "language_info": {
   "codemirror_mode": {
    "name": "ipython",
    "version": 3
   },
   "file_extension": ".py",
   "mimetype": "text/x-python",
   "name": "python",
   "nbconvert_exporter": "python",
   "pygments_lexer": "ipython3",
   "version": "3.7.4"
  }
 },
 "nbformat": 4,
 "nbformat_minor": 2
}
